{
 "cells": [
  {
   "cell_type": "markdown",
   "metadata": {},
   "source": [
    "# CapsNet by chainer\n",
    "\n",
    "* original code\n",
    "https://github.com/Sarasra/models/tree/master/research/capsules\n",
    "\n",
    "* paper\n",
    "https://arxiv.org/abs/1710.09829\n",
    "\n"
   ]
  },
  {
   "cell_type": "code",
   "execution_count": 26,
   "metadata": {},
   "outputs": [],
   "source": [
    "import chainer\n",
    "from chainer import initializers\n",
    "from chainer import functions as F, links as L"
   ]
  },
  {
   "cell_type": "code",
   "execution_count": 27,
   "metadata": {},
   "outputs": [],
   "source": [
    "import cupy\n",
    "import numpy as np\n",
    "xp = cupy"
   ]
  },
  {
   "cell_type": "code",
   "execution_count": 28,
   "metadata": {},
   "outputs": [],
   "source": [
    "class CapsNet(chainer.Chain):\n",
    "    def __init__(self, image_channel=1, n_out=10):\n",
    "        super(CapsNet, self).__init__()\n",
    "        with self.init_scope():\n",
    "            # inputs are conv features\n",
    "            self.conv1 = L.Convolution2D(image_channel, out_channels=256, ksize=9, stride=1)\n",
    "            # to create primaryCaps\n",
    "            self.capsconv = CapsConv(out_channels=32, dim_vec=8, ksize=9, stride=1)\n",
    "            # to throw to CapsNet\n",
    "            self.caps = CapsuleLayer(in_channels=32, input_dim_vec=8, out_channels=10, dim_vec=16)\n",
    "            \n",
    "    def __call__(self, inputs):\n",
    "        h = self.conv1(inputs)\n",
    "        h = self.capsconv(h)\n",
    "        h = self.caps(h)\n",
    "        return xp.linalg.norm(h, axis=1)\n",
    "    "
   ]
  },
  {
   "cell_type": "code",
   "execution_count": 29,
   "metadata": {},
   "outputs": [],
   "source": [
    " def _squash(inputs):\n",
    "        norm = xp.linalg.norm(inputs, axis=2, keepdims=True)\n",
    "        norm_squred = norm * norm\n",
    "        return (inputs / norm) * (norm_squred / (1 + norm_squred))"
   ]
  },
  {
   "cell_type": "code",
   "execution_count": 30,
   "metadata": {},
   "outputs": [],
   "source": [
    "def _update_routing(votes, bias, logit_shape, num_dims, input_dim, num_routing=3, leaky=False):\n",
    "    votes_t_shape = [3, 0, 1, 2]\n",
    "    for i in range(num_dims -4):\n",
    "        votes_t_shape += [i + 4]\n",
    "    r_t_shape = [1, 2, 3, 0]\n",
    "    for i in range(num_dims -4):\n",
    "        r_t_shape += [i + 4]\n",
    "    votes_trans = F.transpose(votes, votes_t_shape)\n",
    "    acts = []\n",
    "    def _body(logits):\n",
    "        if leaky:\n",
    "            # TODO impriments leaky method\n",
    "            route = F.softmax(logits, axis=2)\n",
    "            pass\n",
    "        else:\n",
    "            route = F.softmax(logits, axis=2)\n",
    "        pre_act_t = F.transpose(route * votes_trans, r_t_shape)\n",
    "        pre_act = F.sum(pre_act_t, axis=1) + bias\n",
    "        act = _squash(pre_act)\n",
    "        \n",
    "        acts.append(act)\n",
    "        \n",
    "        act_3d = F.expand_dims(act, 1)\n",
    "        tile_shape = np.ones(num_dims, dtype=np.int32).tolist()\n",
    "        tile_shape[1] = input_dim\n",
    "        act_rep = F.tile(act_3d, tile_shape)\n",
    "        distances = F.sum(votes * act_rep, axis=3)\n",
    "        logits += distances\n",
    "        return logits\n",
    "    logits = xp.zeros(logit_shape, dtype=np.float32)\n",
    "    \n",
    "    for i in range(num_routing):\n",
    "        logits = _body(logits)\n",
    "    \n",
    "    return acts[num_routing -1]"
   ]
  },
  {
   "cell_type": "code",
   "execution_count": 31,
   "metadata": {},
   "outputs": [],
   "source": [
    "class CapsConv(chainer.Link):\n",
    "    def __init__(self, in_channels=1, input_dim_vec=256, out_channels=32, dim_vec=8, ksize=9, stride=1):\n",
    "        super(CapsConv, self).__init__()\n",
    "        self.in_channels = in_channels\n",
    "        self.input_dim_vec = input_dim_vec\n",
    "        self.out_channels = out_channels\n",
    "        self.dim_vec = dim_vec\n",
    "        self.bias = chainer.Parameter(initializer=initializers.Zero())\n",
    "\n",
    "        with self.init_scope():\n",
    "            # TODO: separately convolution to each channel.\n",
    "            self.conv = L.Convolution2D(in_channels=in_channels*input_dim_vec, out_channels=out_channels*dim_vec, ksize=ksize, stride=stride)\n",
    "            \n",
    "    def __call__(self, inputs):\n",
    "        self.bias.initialize((self.out_channels, self.dim_vec, 1, 1))\n",
    "        h = self.conv(inputs)\n",
    "        h_shape = h.data.shape\n",
    "        # output shape are (batch_size, number of capsule, dimension of vector, width, height)\n",
    "        reshaped_h = h.reshape((-1, self.in_channels, self.out_channel, self.dim_vec, h_shape[2], h_shape[3]))\n",
    "        \n",
    "        logit_shape = (inputs.shape[0], self.in_channels, self.out_channels, self.input_dim_vec, self.dim_vec)\n",
    "        bias_rep = F.tile(self.bias, (1, 1, reshaped_h.shape[2], reshaped_h[3]))\n",
    "        \n",
    "        activation = _update_routing(votes=reshaped_h,\n",
    "                                     bias=bias_rep,\n",
    "                                     logit_shape=logit_shape,\n",
    "                                     num_dims=6,\n",
    "                                     input_dim=self.in_channels,\n",
    "                                     output_dim=self.out_channels,\n",
    "                                     num_routing=3\n",
    "                                    )\n",
    "        return  activation"
   ]
  },
  {
   "cell_type": "code",
   "execution_count": 32,
   "metadata": {},
   "outputs": [],
   "source": [
    "class CapuleLayer(chainer.Link):\n",
    "    def __init__(self, in_channels, input_dim_vec, out_channels , dim_vec, num_routing=3):\n",
    "        super(CapuleLayer, self).__init__()\n",
    "        self.in_channels = in_channels\n",
    "        self.input_dim_vec = input_dim_vec\n",
    "        self.out_channels = out_channels\n",
    "        self.dim_vec = dim_vec\n",
    "        self.num_routing = num_routing\n",
    "\n",
    "        with self.init_scope():\n",
    "            self.W = chainer.Parameter(initializer=initializers.GlorotNorma(),\n",
    "                                       shape=None\n",
    "                                      )\n",
    "            self.bias = chainer.Parameter(initializer=initializers.Zero(),\n",
    "                                          shape=None\n",
    "                                         )\n",
    "    \n",
    "    def __call__(self, inputs):\n",
    "        capsule_atom_last = F.transpose(inputs, (0, 1, 3, 4, 2))\n",
    "        capsule_3d = F.reshape(capsule_atom_last, (self.input_shape[0], -1, self.input_dim_vec))\n",
    "\n",
    "        self.input_shape = inputs.shape\n",
    "        self.W.initialize(shape=(self.in_channels*self.input_shape[-2]*self.input_shape[-1],\n",
    "                                 self.input_dim_vec,\n",
    "                                 self.out_channels*self.dim_vec)\n",
    "                         )\n",
    "        self.bias.initialize(shape=(self.dim_vec, self.out_channels))\n",
    "        \n",
    "        input_tiled = F.tile(F.expand_dims(capsule_3d, -1), (1, 1, 1, self.out_channels*self.dim_vec))\n",
    "        votes = F.sum(input_tiled * self.W, axis=2)\n",
    "        votes_reshaped = F.reshape(votes,\n",
    "                                   (-1, self.in_channels*self.input_shape[-2]*self.input_shape[-1], self.dim_vec, self.out_channels))\n",
    "        # routing algorithm\n",
    "        logit_shape = (self.capsule_3d.shape[0], self.in_channels*self.input_shape[-2]*self.input_shape[-1], self.out_channels)\n",
    "        activations = _update_routing(votes=votes_reshaped,\n",
    "                                      bias=self.bias,\n",
    "                                      logit_shape=logit_shape,\n",
    "                                      ndim_dims=4,\n",
    "                                      input_dim=self.in_channels*self.input_shape[-2]*self.input_shape[-1],\n",
    "                                      output_dim=output_dim,\n",
    "                                      num_routing=self.num_routing\n",
    "                                     )\n",
    "        return activations\n"
   ]
  },
  {
   "cell_type": "code",
   "execution_count": null,
   "metadata": {},
   "outputs": [],
   "source": []
  }
 ],
 "metadata": {
  "kernelspec": {
   "display_name": "Python 3",
   "language": "python",
   "name": "python3"
  },
  "language_info": {
   "codemirror_mode": {
    "name": "ipython",
    "version": 3
   },
   "file_extension": ".py",
   "mimetype": "text/x-python",
   "name": "python",
   "nbconvert_exporter": "python",
   "pygments_lexer": "ipython3",
   "version": "3.5.2"
  }
 },
 "nbformat": 4,
 "nbformat_minor": 2
}
