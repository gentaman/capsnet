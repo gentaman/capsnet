{
 "cells": [
  {
   "cell_type": "code",
   "execution_count": 5,
   "metadata": {
    "collapsed": true
   },
   "outputs": [],
   "source": [
    "import chainer\n",
    "from chainer import initializers\n",
    "from chainer import functions"
   ]
  },
  {
   "cell_type": "code",
   "execution_count": 4,
   "metadata": {},
   "outputs": [
    {
     "ename": "SyntaxError",
     "evalue": "invalid syntax (<ipython-input-4-54813d213eb5>, line 8)",
     "output_type": "error",
     "traceback": [
      "\u001b[1;36m  File \u001b[1;32m\"<ipython-input-4-54813d213eb5>\"\u001b[1;36m, line \u001b[1;32m8\u001b[0m\n\u001b[1;33m    self.W = chainer.Parameter(initializer=initializers.)\u001b[0m\n\u001b[1;37m                                                        ^\u001b[0m\n\u001b[1;31mSyntaxError\u001b[0m\u001b[1;31m:\u001b[0m invalid syntax\n"
     ]
    }
   ],
   "source": [
    "class CapuleLayer(chainer.Link):\n",
    "    def __init__(self, input_num_capsule, num_capsule,\n",
    "                 input_dim_vector, dim_vector, num_routing=3):\n",
    "        super(CapuleLayer, self).__init__()\n",
    "        self.input_num_capsule = input_num_capsule\n",
    "        self.num_capsule = num_capsule\n",
    "        self.input_dim_vector\n",
    "        self.dim_vector = dim_vector\n",
    "        self.num_routing = num_routing\n",
    "        with self.init_scope():\n",
    "            self.W = chainer.Parameter(initializer=initializers.GlorotUniform(),\n",
    "                                       (self.input_num_capsule, self.num_capsle,\n",
    "                                        self.input_dim_vector, self.dim_vector))\n",
    "            self.bias = chainer.Parameter(initializer=initializers.Zero(),\n",
    "                                         (1, self.input_num_capsule, self.num_capsule,\n",
    "                                         1, 1))\n",
    "    \n",
    "    def __call__(self, inputs):\n",
    "        inputs_expand = functions.expand_dims(functions.expand_dims(inputs, 2), 2)\n",
    "        inputs_tiled = functions.tile(inputs_expand, [1, 1, self.num_capsule, 1, 1])\n",
    "        inputs_hat = "
   ]
  },
  {
   "cell_type": "code",
   "execution_count": null,
   "metadata": {
    "collapsed": true
   },
   "outputs": [],
   "source": []
  }
 ],
 "metadata": {
  "kernelspec": {
   "display_name": "Python 3",
   "language": "python",
   "name": "python3"
  },
  "language_info": {
   "codemirror_mode": {
    "name": "ipython",
    "version": 3
   },
   "file_extension": ".py",
   "mimetype": "text/x-python",
   "name": "python",
   "nbconvert_exporter": "python",
   "pygments_lexer": "ipython3",
   "version": "3.6.2"
  }
 },
 "nbformat": 4,
 "nbformat_minor": 2
}
